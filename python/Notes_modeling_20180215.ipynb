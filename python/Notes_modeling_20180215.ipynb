{
 "cells": [
  {
   "cell_type": "code",
   "execution_count": null,
   "metadata": {},
   "outputs": [],
   "source": [
    "Simplifying algebratic equations of the heat pump, 15.02.2018 at Offenburg\n",
    "\n",
    "x = Pel_HP\n",
    "y = Pth_HP_MT\n",
    "z = T_HP_MT_FL\n",
    "w = T_HP_MT_RL\n",
    "\n",
    "1) x = HP_Switch * (1.73 + a * w + d * T_HP_HT_RL)\n",
    "Pel_HP = HP_Switch * (1.367 + 0.0066*T_HP_MT_RL + 0.069*T_HP_HT_RL)\n",
    "\n",
    "Pth_HP_HT = HP_Switch * (9.0 + b * w + c * T_HP_HT_RL)\n",
    "Pth_HP_HT = HP_Switch * (15.3366 + 0.3852*T_HP_MT_RL - 0.042*T_HP_HT_RL)\n",
    "Pth_HP_HT = HP_Switch * (15.3366 + 0.3852*w - 0.042*T_HP_HT_RL)\n",
    "\n",
    "2) y = Pth_HP_HT - x \n",
    "3) z+273.15 = (w+273.15) -0.2392344497607656 * y / m_dot_HP_MT_FL_Set\n",
    "4) w = z + 5\n",
    "\n",
    "4) => z = w - 5\n",
    "3) => w = w - 5 + 0.2392344497607656 * y / m_dot_HP_MT_FL_Set\n",
    "=> y = 5 * m_dot_HP_MT_FL_Set / 0.2392344497607656\n",
    "2) y = -x + g(w)\n",
    "1) x = h(w)\n",
    "-> y = g(w) - h(w)\n",
    "\n",
    "w = c1 + a*y\n",
    "y = c2 + b*w = c2 + b*(c1 + a*y)\n",
    "=> can solve for y:\n",
    "    y = (c2 + b*c1)/(1-b*a)\n"
   ]
  }
 ],
 "metadata": {
  "kernelspec": {
   "display_name": "Python 3",
   "language": "python",
   "name": "python3"
  },
  "language_info": {
   "codemirror_mode": {
    "name": "ipython",
    "version": 3
   },
   "file_extension": ".py",
   "mimetype": "text/x-python",
   "name": "python",
   "nbconvert_exporter": "python",
   "pygments_lexer": "ipython3",
   "version": "3.5.2"
  }
 },
 "nbformat": 4,
 "nbformat_minor": 2
}
